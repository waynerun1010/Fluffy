{
  "nbformat": 4,
  "nbformat_minor": 0,
  "metadata": {
    "colab": {
      "provenance": [],
      "authorship_tag": "ABX9TyO6u5ZvkbxaLV0poZKByuR4",
      "include_colab_link": true
    },
    "kernelspec": {
      "name": "python3",
      "display_name": "Python 3"
    },
    "language_info": {
      "name": "python"
    }
  },
  "cells": [
    {
      "cell_type": "markdown",
      "metadata": {
        "id": "view-in-github",
        "colab_type": "text"
      },
      "source": [
        "<a href=\"https://colab.research.google.com/github/waynerun1010/Fluffy/blob/master/%E6%8A%93%E8%B3%87%E6%96%99.ipynb\" target=\"_parent\"><img src=\"https://colab.research.google.com/assets/colab-badge.svg\" alt=\"Open In Colab\"/></a>"
      ]
    },
    {
      "cell_type": "code",
      "execution_count": 10,
      "metadata": {
        "colab": {
          "base_uri": "https://localhost:8080/",
          "height": 231
        },
        "id": "sqQpmPYN8g8S",
        "outputId": "8fe550d6-0404-4f6f-c39f-c7de297ac7f1"
      },
      "outputs": [
        {
          "output_type": "stream",
          "name": "stdout",
          "text": [
            "Requirement already satisfied: pandas in /usr/local/lib/python3.10/dist-packages (2.0.3)\n",
            "Requirement already satisfied: openpyxl in /usr/local/lib/python3.10/dist-packages (3.1.2)\n",
            "Requirement already satisfied: python-dateutil>=2.8.2 in /usr/local/lib/python3.10/dist-packages (from pandas) (2.8.2)\n",
            "Requirement already satisfied: pytz>=2020.1 in /usr/local/lib/python3.10/dist-packages (from pandas) (2023.4)\n",
            "Requirement already satisfied: tzdata>=2022.1 in /usr/local/lib/python3.10/dist-packages (from pandas) (2024.1)\n",
            "Requirement already satisfied: numpy>=1.21.0 in /usr/local/lib/python3.10/dist-packages (from pandas) (1.25.2)\n",
            "Requirement already satisfied: et-xmlfile in /usr/local/lib/python3.10/dist-packages (from openpyxl) (1.1.0)\n",
            "Requirement already satisfied: six>=1.5 in /usr/local/lib/python3.10/dist-packages (from python-dateutil>=2.8.2->pandas) (1.16.0)\n",
            "         異動日期   球員    球隊 異動原因\n",
            "0  2024/04/21  布藍登  富邦悍將  升一軍\n",
            "1  2024/04/19  吳世豪  富邦悍將  升一軍\n",
            "2  2024/04/06  布藍登  富邦悍將  降二軍\n"
          ]
        },
        {
          "output_type": "display_data",
          "data": {
            "text/plain": [
              "<IPython.core.display.Javascript object>"
            ],
            "application/javascript": [
              "\n",
              "    async function download(id, filename, size) {\n",
              "      if (!google.colab.kernel.accessAllowed) {\n",
              "        return;\n",
              "      }\n",
              "      const div = document.createElement('div');\n",
              "      const label = document.createElement('label');\n",
              "      label.textContent = `Downloading \"${filename}\": `;\n",
              "      div.appendChild(label);\n",
              "      const progress = document.createElement('progress');\n",
              "      progress.max = size;\n",
              "      div.appendChild(progress);\n",
              "      document.body.appendChild(div);\n",
              "\n",
              "      const buffers = [];\n",
              "      let downloaded = 0;\n",
              "\n",
              "      const channel = await google.colab.kernel.comms.open(id);\n",
              "      // Send a message to notify the kernel that we're ready.\n",
              "      channel.send({})\n",
              "\n",
              "      for await (const message of channel.messages) {\n",
              "        // Send a message to notify the kernel that we're ready.\n",
              "        channel.send({})\n",
              "        if (message.buffers) {\n",
              "          for (const buffer of message.buffers) {\n",
              "            buffers.push(buffer);\n",
              "            downloaded += buffer.byteLength;\n",
              "            progress.value = downloaded;\n",
              "          }\n",
              "        }\n",
              "      }\n",
              "      const blob = new Blob(buffers, {type: 'application/binary'});\n",
              "      const a = document.createElement('a');\n",
              "      a.href = window.URL.createObjectURL(blob);\n",
              "      a.download = filename;\n",
              "      div.appendChild(a);\n",
              "      a.click();\n",
              "      div.remove();\n",
              "    }\n",
              "  "
            ]
          },
          "metadata": {}
        },
        {
          "output_type": "display_data",
          "data": {
            "text/plain": [
              "<IPython.core.display.Javascript object>"
            ],
            "application/javascript": [
              "download(\"download_f71cb995-60f7-4986-938d-3a52ec63465b\", \"trans.xlsx\", 5098)"
            ]
          },
          "metadata": {}
        }
      ],
      "source": [
        "!pip install pandas openpyxl\n",
        "\n",
        "import pandas as pd\n",
        "import requests\n",
        "from google.colab import files\n",
        "from bs4 import BeautifulSoup\n",
        "\n",
        "url = 'https://www.cpbl.com.tw/player/trans'\n",
        "headers = {\n",
        "    'User-Agent': 'Mozilla/5.0 (Windows NT 10.0; Win64; x64) AppleWebKit/537.36 (KHTML, like Gecko) Chrome/58.0.3029.110 Safari/537.3'\n",
        "}\n",
        "\n",
        "try:\n",
        "    response = requests.get(url, headers=headers)\n",
        "    response.raise_for_status()  # 這將會在非 200 響應時拋出 HTTPError\n",
        "    soup = BeautifulSoup(response.text, 'html.parser')\n",
        "    # print(soup)\n",
        "except requests.exceptions.HTTPError as errh:\n",
        "    print (\"Http Error:\",errh)\n",
        "except requests.exceptions.ConnectionError as errc:\n",
        "    print (\"Error Connecting:\",errc)\n",
        "except requests.exceptions.Timeout as errt:\n",
        "    print (\"Timeout Error:\",errt)\n",
        "except requests.exceptions.RequestException as err:\n",
        "    print (\"OOps: Something Else\",err)\n",
        "\n",
        "\n",
        "\n",
        "table = soup.find('table')\n",
        "if table:\n",
        "    rows = table.find_all('tr')\n",
        "else:\n",
        "    print(\"No table found\")\n",
        "\n",
        "rows = table.find_all('tr')\n",
        "headers = [header.text.strip() for header in rows[0].find_all('th')]\n",
        "\n",
        "data = []\n",
        "last_date = None  # 用來記錄最後讀到的日期\n",
        "included_players = ['布藍登', '吳世豪']  # 要保留的特定球員名單\n",
        "\n",
        "for row in rows[1:]:\n",
        "    cols = row.find_all('td')\n",
        "    cols = [ele.text.strip() for ele in cols]\n",
        "\n",
        "    # 檢查當前行是否包含日期，假設日期格式為 'YYYY/MM/DD'\n",
        "    if len(cols) > 0 and '/' in cols[0]:\n",
        "        last_date = cols[0]  # 更新最後讀到的日期\n",
        "    else:\n",
        "        # 如果當前行沒有日期，則使用最後讀到的日期\n",
        "        if last_date is not None:\n",
        "            cols.insert(0, last_date)  # 在列表前插入最近的日期\n",
        "\n",
        "    # 檢查是否包含 \"富邦悍將\" 這個關鍵詞\n",
        "    if \"富邦悍將\" in cols and any(player in cols for player in included_players):\n",
        "        data.append(cols)\n",
        "\n",
        "df = pd.DataFrame(data, columns=headers)\n",
        "\n",
        "print(df)\n",
        "\n",
        "\n",
        "# 將DataFrame保存到Excel文件\n",
        "df.to_excel(\"trans.xlsx\", index=False, engine='openpyxl')\n",
        "\n",
        "# 提供一個下載鏈接\n",
        "files.download('trans.xlsx')\n"
      ]
    }
  ]
}